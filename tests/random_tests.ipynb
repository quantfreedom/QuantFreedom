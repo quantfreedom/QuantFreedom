{
  "cells": [
    {
      "cell_type": "code",
      "execution_count": 1,
      "metadata": {},
      "outputs": [],
      "source": [
        "import pandas as pd\n",
        "import numpy as np\n",
        "from quantfreedom.indicators.tv_indicators import rsi_tv\n",
        "from quantfreedom import dl_ex_candles\n",
        "from quantfreedom.grid.bt_grid import grid_backtest\n",
        "from datetime import datetime\n",
        "import plotly.graph_objects as go\n",
        "\n",
        "%load_ext autoreload\n",
        "%autoreload 2"
      ]
    },
    {
      "cell_type": "code",
      "execution_count": 2,
      "metadata": {},
      "outputs": [],
      "source": [
        "candles = dl_ex_candles(\n",
        "    exchange=\"mufex\",\n",
        "    symbol=\"BTCUSDT\",\n",
        "    timeframe=\"5m\",\n",
        "    since_datetime=datetime(2024, 5, 1),\n",
        "    until_datetime=datetime(2024, 5, 29),\n",
        ")\n",
        "datetimes = candles.candle_open_datetimes"
      ]
    },
    {
      "cell_type": "code",
      "execution_count": 3,
      "metadata": {},
      "outputs": [],
      "source": [
        "ps_array, ae_buy_array, ae_sell_array, pnl_array, buy_signals, sell_signals, order_records = grid_backtest(\n",
        "    candles=candles,\n",
        "    price_pct=0.5,\n",
        "    pct_account=10,\n",
        "    leverage=10,\n",
        ")"
      ]
    },
    {
      "cell_type": "code",
      "execution_count": null,
      "metadata": {},
      "outputs": [],
      "source": [
        "fig = go.Figure()\n",
        "not_nan_ps_array_filter = ~np.isnan(ps_array)\n",
        "fig.add_scatter(\n",
        "    x=datetimes[not_nan_ps_array_filter],\n",
        "    y=ps_array[not_nan_ps_array_filter],\n",
        ")\n",
        "fig.update_layout(height=800, xaxis_rangeslider_visible=False)\n",
        "fig.show()"
      ]
    }
  ],
  "metadata": {
    "kernelspec": {
      "display_name": "qfree",
      "language": "python",
      "name": "python3"
    },
    "language_info": {
      "codemirror_mode": {
        "name": "ipython",
        "version": 3
      },
      "file_extension": ".py",
      "mimetype": "text/x-python",
      "name": "python",
      "nbconvert_exporter": "python",
      "pygments_lexer": "ipython3",
      "version": "3.12.4"
    }
  },
  "nbformat": 4,
  "nbformat_minor": 2
}
