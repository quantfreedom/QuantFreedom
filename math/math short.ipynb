{
  "cells": [
    {
      "attachments": {},
      "cell_type": "markdown",
      "metadata": {},
      "source": [
        "[Math Link](<https://www.symbolab.com/solver/simplify-calculator/solve%20for%20t%2C%20%5Cleft(%5Cleft(%5Cfrac%7Bs%7D%7Be%7D%5Cright)%20%5Ccdot%5Cleft(e-t%5Cright)%5Cright)%20-%20%5Cleft(%5Cleft(%5Cfrac%7Bs%7D%7Be%7D%5Cright)%5Ccdot%20e%20%5Ccdot%20m%5Cright)%20-%20%5Cleft(%5Cleft(%5Cfrac%7Bs%7D%7Be%7D%5Cright)%5Ccdot%20t%20%5Ccdot%20%20l%5Cright)%20%3D%20p?or=input)<br>\n",
        "\n",
        "Solving for Short Take Profit Price<br>\n",
        "usd = USD size<br>\n",
        "entry = entry or average entry<br>\n",
        "mfee = Market Fee<br>\n",
        "lfee = Limit Fee<br>\n",
        "tp = Take profit price<br>\n",
        "pnl = pnl<br>\n",
        "\n",
        "$$\n",
        "pnl = ((\\frac{usd}{entry}) * (entry - tp)) - ((\\frac{usd}{entry}) * entry * mfee) - ((\\frac{usd}{entry}) * tp * lfee)\\\\\n",
        "~\\\\\n",
        "tp = -(\\frac{(entry * pnl) - (entry * usd) + (entry*mfee*usd)}{usd*(1+lfee)})\n",
        "$$\n"
      ]
    },
    {
      "cell_type": "code",
      "execution_count": 9,
      "metadata": {},
      "outputs": [
        {
          "data": {
            "text/plain": [
              "25011.560919027444"
            ]
          },
          "execution_count": 9,
          "metadata": {},
          "output_type": "execute_result"
        }
      ],
      "source": [
        "entry = 27805.5\n",
        "position = 100.6931\n",
        "pnl = 10\n",
        "mfee = 0.0009\n",
        "lfee = 0.0003\n",
        "-((pnl * entry) - (entry * position) +\n",
        "  (entry * mfee * position)) / (position * (1 + lfee))"
      ]
    },
    {
      "attachments": {},
      "cell_type": "markdown",
      "metadata": {},
      "source": [
        "Solving for break even price\n"
      ]
    },
    {
      "cell_type": "code",
      "execution_count": 10,
      "metadata": {},
      "outputs": [
        {
          "data": {
            "text/plain": [
              "27755.49510440604"
            ]
          },
          "execution_count": 10,
          "metadata": {},
          "output_type": "execute_result"
        }
      ],
      "source": [
        "# this formula only works with a 1 because it represents a size val of 1\n",
        "# if i were to use any other value for size i would have to use the solving for tp code\n",
        "(entry - mfee * entry) / (1 + mfee)"
      ]
    },
    {
      "attachments": {},
      "cell_type": "markdown",
      "metadata": {},
      "source": [
        "Solving for Short Leverage <br>\n",
        "When you know you want your liq price to be slightly higher than your sl price<br>\n",
        "AE = Avg Entry<br>\n",
        "MMR = Maintaince Margin Rate<br>\n",
        "LP = Liq Price<br>\n",
        "SLP = Stop Loss Price<br>\n",
        "P = Padding<br>\n",
        "L = Long Leverage\n",
        "\n",
        "$$\n",
        "LP = AE * (1 + (\\frac{1}{L}) - (MMR / 100))\\\\\n",
        "|\\\\\n",
        "SLP + (SLP * \\frac{P}{100}) = AE * (1 + (\\frac{1}{L}) - (MMR / 100))\\\\\n",
        "|\\\\\n",
        "|\\\\\n",
        "L = \\frac{AE}{SLP + (SLP * \\frac{P}{100}) - AE + (AE * \\frac{MMR}{100})}\n",
        "$$\n"
      ]
    },
    {
      "cell_type": "code",
      "execution_count": 36,
      "metadata": {},
      "outputs": [
        {
          "data": {
            "text/plain": [
              "(58.7544065804936, 1012.0200000000001)"
            ]
          },
          "execution_count": 36,
          "metadata": {},
          "output_type": "execute_result"
        }
      ],
      "source": [
        "ae = 1000\n",
        "mmr = .5\n",
        "slp = 1010\n",
        "p = .2\n",
        "shortlev = ae / (slp + ((slp * p)/100) - ae + ((mmr * ae) / 100))\n",
        "lp = ae * (1 + 1/shortlev - mmr/100)\n",
        "shortlev, lp"
      ]
    },
    {
      "attachments": {},
      "cell_type": "markdown",
      "metadata": {},
      "source": [
        "Finding USD price based on possible loss<br>\n",
        "[math](https://www.symbolab.com/solver/simplify-calculator/solve%20for%20u%2C%20%5Cleft(%5Cleft(%5Cfrac%7Bu%7D%7Be%7D%5Ccdot%5Cleft(e%20-%20x%5Cright)%5Cright)-%20%5Cleft(%5Cfrac%7Bu%7D%7Be%7D%5Ccdot%20e%5Ccdot%20m%5Cright)%20-%20%5Cleft(%5Cfrac%7Bu%7D%7Be%7D%5Ccdot%20x%5Ccdot%20m%5Cright)%20%5Cright)%3Dp?or=input)<br>\n",
        "U = USD size<br>\n",
        "E = entry or average entry<br>\n",
        "M = Fee<br>\n",
        "X = Stops price<br>\n",
        "P = pnl<br>\n",
        "\n",
        "$$\n",
        "P = ((\\frac{U}{E}) * (E - X)) - ((\\frac{U}{E}) * E * M) - ((\\frac{U}{E}) * X * M)\n",
        "$$\n"
      ]
    },
    {
      "cell_type": "code",
      "execution_count": 4,
      "metadata": {},
      "outputs": [
        {
          "data": {
            "text/plain": [
              "846.8117537471419"
            ]
          },
          "execution_count": 4,
          "metadata": {},
          "output_type": "execute_result"
        }
      ],
      "source": [
        "entry_price = 1000\n",
        "sl_pcts_new = 0.01\n",
        "market_fee_pct = 0.0009\n",
        "\n",
        "exit_price = entry_price + (entry_price * sl_pcts_new)\n",
        "\n",
        "total_possible_loss = -10\n",
        "\n",
        "entry_size_usd = entry_price * -total_possible_loss / (-entry_price + exit_price + entry_price * market_fee_pct + market_fee_pct * exit_price)\n",
        "entry_size_usd"
      ]
    },
    {
      "cell_type": "code",
      "execution_count": 5,
      "metadata": {},
      "outputs": [
        {
          "data": {
            "text/plain": [
              "-10.0"
            ]
          },
          "execution_count": 5,
          "metadata": {},
          "output_type": "execute_result"
        }
      ],
      "source": [
        "(\n",
        "    ((entry_size_usd / entry_price) * (entry_price - exit_price))\n",
        "    - (entry_size_usd / entry_price) * entry_price * market_fee_pct\n",
        "    - (entry_size_usd / entry_price) * exit_price * market_fee_pct\n",
        ")"
      ]
    },
    {
      "cell_type": "code",
      "execution_count": 5,
      "metadata": {},
      "outputs": [],
      "source": [
        "total_possible_loss = 20\n",
        "entry_price = 1900\n",
        "average_entry = 2000\n",
        "position_size_usd = 100\n",
        "market_fee_pct = 0.0009\n",
        "sl_price = 1800\n",
        "entry_size_usd = 100"
      ]
    },
    {
      "cell_type": "code",
      "execution_count": 6,
      "metadata": {},
      "outputs": [
        {
          "data": {
            "text/plain": [
              "-0.0"
            ]
          },
          "execution_count": 6,
          "metadata": {},
          "output_type": "execute_result"
        }
      ],
      "source": [
        "# math https://www.symbolab.com/solver/simplify-calculator/solve%20for%20u%2C%20%5Cleft(%5Cleft(%5Cleft(%5Cfrac%7Bp%7D%7Ba%7D%2B%5Cfrac%7Bu%7D%7Be%7D%5Cright)%5Ccdot%5Cleft(%5Cleft(%5Cfrac%7B%5Cleft(p%2Bu%5Cright)%7D%7B%5Cleft(%5Cfrac%7Bp%7D%7Ba%7D%2B%5Cfrac%7Bu%7D%7Be%7D%5Cright)%7D%5Cright)-n%5Cright)%5Cright)-%20%5Cleft(%5Cleft(%5Cfrac%7Bp%7D%7Ba%7D%2B%5Cfrac%7Bu%7D%7Be%7D%5Cright)%5Ccdot%5Cleft(%5Cfrac%7B%5Cleft(p%2Bu%5Cright)%7D%7B%5Cleft(%5Cfrac%7Bp%7D%7Ba%7D%2B%5Cfrac%7Bu%7D%7Be%7D%5Cright)%7D%5Cright)%5Ccdot%20%20m%5Cright)%20-%20%5Cleft(%5Cleft(%5Cfrac%7Bp%7D%7Ba%7D%2B%5Cfrac%7Bu%7D%7Be%7D%5Cright)%5Ccdot%20%20n%5Ccdot%20%20m%5Cright)%20%5Cright)%3D-f?or=input\n",
        "\n",
        "round(\n",
        "    -(\n",
        "        (\n",
        "            entry_price * average_entry * total_possible_loss\n",
        "            - entry_price * average_entry * position_size_usd\n",
        "            + sl_price * average_entry * position_size_usd\n",
        "            + sl_price * market_fee_pct * average_entry * position_size_usd\n",
        "            + entry_price * market_fee_pct * average_entry * position_size_usd\n",
        "        )\n",
        "        / (entry_price * (sl_price - average_entry * sl_price * market_fee_pct + average_entry * market_fee_pct))\n",
        "    ),\n",
        "    3,\n",
        ")"
      ]
    }
  ],
  "metadata": {
    "kernelspec": {
      "display_name": "qfVBT",
      "language": "python",
      "name": "python3"
    },
    "language_info": {
      "codemirror_mode": {
        "name": "ipython",
        "version": 3
      },
      "file_extension": ".py",
      "mimetype": "text/x-python",
      "name": "python",
      "nbconvert_exporter": "python",
      "pygments_lexer": "ipython3",
      "version": "3.10.10"
    },
    "orig_nbformat": 4,
    "vscode": {
      "interpreter": {
        "hash": "d03a5f5914d41db73604e557196e04fa21b062a314cb051b64faf513d9f7a3ca"
      }
    }
  },
  "nbformat": 4,
  "nbformat_minor": 2
}
