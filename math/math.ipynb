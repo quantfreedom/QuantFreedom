{
 "cells": [
  {
   "attachments": {},
   "cell_type": "markdown",
   "metadata": {},
   "source": [
    "https://www.math.net/percent-difference\n",
    "\n",
    "bybit profit - https://www.bybithelp.com/HelpCenterKnowledge/bybitHC_Article?language=en_US&id=000001066#c"
   ]
  },
  {
   "cell_type": "code",
   "execution_count": null,
   "metadata": {},
   "outputs": [],
   "source": []
  },
  {
   "cell_type": "code",
   "execution_count": null,
   "metadata": {},
   "outputs": [],
   "source": [
    "available_balance= 784.48\n",
    "average_entry= 13605\n",
    "bankruptcy_price= 12698.0\n",
    "cash_borrowed = 2948.48\n",
    "cash_used= 215.52\n",
    "fee_to_close= 2.21\n",
    "fee_to_open= 2.37\n",
    "initial_margin= 210.93"
   ]
  },
  {
   "cell_type": "code",
   "execution_count": null,
   "metadata": {},
   "outputs": [],
   "source": [
    "available_balance= 763.7\n",
    "average_entry= 12348\n",
    "bankruptcy_price= 11524.8\n",
    "cash_borrowed = 3232.7\n",
    "cash_used= 236.3\n",
    "fee_to_close= 2.43\n",
    "fee_to_open= 2.6\n",
    "initial_margin= 231.27"
   ]
  },
  {
   "cell_type": "code",
   "execution_count": 1,
   "metadata": {},
   "outputs": [
    {
     "data": {
      "text/plain": [
       "12917.291458695147"
      ]
     },
     "execution_count": 1,
     "metadata": {},
     "output_type": "execute_result"
    }
   ],
   "source": [
    "order_size_usd = 3164\n",
    "entry_price = 13605\n",
    "position_size_usd = 3469\n",
    "position_size_asset = position_size_usd / 12348\n",
    "\n",
    "total_position_size_usd = position_size_usd + order_size_usd\n",
    "order_size_asset = order_size_usd / entry_price\n",
    "total_asset_size = position_size_asset + order_size_asset\n",
    "new_average_entry = total_position_size_usd / total_asset_size\n",
    "\n",
    "new_average_entry"
   ]
  },
  {
   "cell_type": "code",
   "execution_count": null,
   "metadata": {},
   "outputs": [],
   "source": [
    "available_balance= 548.18\n",
    "average_entry= 12917.29\n",
    "bankruptcy_price= 12056.14\n",
    "cash_borrowed = 6181.18\n",
    "cash_used= 451.82\n",
    "fee_to_close= 4.64\n",
    "fee_to_open= 4.97\n",
    "initial_margin= 442.2\n",
    "total_position_size_usd= 6633\n",
    "total_asset_size= 0.51"
   ]
  },
  {
   "cell_type": "code",
   "execution_count": null,
   "metadata": {},
   "outputs": [],
   "source": [
    "available_balance= 548.18\n",
    "average_entry= 12348\n",
    "bankruptcy_price= 12056.14\n",
    "cash_borrowed = 6181.18\n",
    "cash_used= 451.82\n",
    "fee_to_close= 4.64\n",
    "fee_to_open= 4.97\n",
    "initial_margin= 442.2"
   ]
  },
  {
   "cell_type": "code",
   "execution_count": 1,
   "metadata": {},
   "outputs": [
    {
     "name": "stdout",
     "output_type": "stream",
     "text": [
      "im_usdt = 61.640600000000006 \n",
      "fee_open_usdt =  3.698436 \n",
      "liq_price_usdt =  21904.4275 \n",
      "fee_close_usdt =  3.66145164 \n",
      "cost_usdt =  69.00048764\n"
     ]
    }
   ],
   "source": [
    "# USDT Contract\n",
    "equity = 69.2028\n",
    "avail_bal = 69.2028\n",
    "usd_value = 6164.06\n",
    "order_price = 22014.50\n",
    "lev = 100\n",
    "fee = .0006\n",
    "im_usdt = usd_value / lev\n",
    "imr = 1/lev\n",
    "mmr = .005\n",
    "fee_open_usdt = usd_value * fee\n",
    "liq_price_usdt = order_price * (1 - imr + mmr)\n",
    "fee_close_usdt = usd_value * (lev - 1) / lev * fee\n",
    "cost_usdt = im_usdt + fee_open_usdt + fee_close_usdt\n",
    "print('im_usdt =', im_usdt, '\\nfee_open_usdt = ', fee_open_usdt,\n",
    "      '\\nliq_price_usdt = ', liq_price_usdt, '\\nfee_close_usdt = ',\n",
    "      fee_close_usdt, '\\ncost_usdt = ', cost_usdt)"
   ]
  },
  {
   "cell_type": "code",
   "execution_count": 2,
   "metadata": {},
   "outputs": [
    {
     "data": {
      "text/plain": [
       "(1.0,\n",
       " 89.33357155619075,\n",
       " -0.9999999999999992,\n",
       " -0.8933357155619075,\n",
       " 0.05360014293371444,\n",
       " 0.0530641415043773)"
      ]
     },
     "execution_count": 2,
     "metadata": {},
     "output_type": "execute_result"
    }
   ],
   "source": [
    "#USDT PnL Long\n",
    "equity = 100\n",
    "entry = 1000\n",
    "risk_pct = 1.\n",
    "account_at_risk = equity * risk_pct / 100\n",
    "sl_pct = 1.\n",
    "sl_price = entry - (entry * sl_pct / 100)\n",
    "usd_size = -account_at_risk / ( ((sl_price/entry) - 1) - fee - ((sl_price * fee)/entry))\n",
    "coin_size = usd_size / entry\n",
    "long_pnl = coin_size * (sl_price - entry)\n",
    "long_fee_open = coin_size * entry * fee\n",
    "long_fee_close = coin_size * sl_price * fee\n",
    "realized_pnl = long_pnl - long_fee_open - long_fee_close\n",
    "account_at_risk, usd_size, realized_pnl, long_pnl, long_fee_open, long_fee_close"
   ]
  },
  {
   "cell_type": "code",
   "execution_count": 3,
   "metadata": {},
   "outputs": [
    {
     "name": "stdout",
     "output_type": "stream",
     "text": [
      "loss_no_fees = 0.5\n",
      "usd_size = 80.68420203324183\n",
      "realized_pnl = -0.49999999999999967\n",
      "long_pnl_no_fees = -0.4034210101662092\n",
      "long_fee_open = 0.048410521219945095\n",
      "long_fee_close = 0.048168468613845376\n"
     ]
    }
   ],
   "source": [
    "# finding usd size using order price and sl pct or sl price based on possible loss\n",
    "entry = 1000\n",
    "fee = .06\n",
    "og_size = 100\n",
    "sl_pct = .5\n",
    "sl_price = entry - (entry * sl_pct / 100)\n",
    "loss_no_fees = og_size * (sl_pct / 100)\n",
    "usd_size = -loss_no_fees / (((sl_price/entry) - 1) - (fee / 100) -\n",
    "                    ((sl_price * (fee / 100))/entry))\n",
    "coin_size = usd_size / entry\n",
    "long_pnl_no_fees = coin_size * (sl_price - entry)\n",
    "long_fee_open = coin_size * entry * (fee / 100)\n",
    "long_fee_close = coin_size * sl_price * (fee / 100)\n",
    "realized_pnl = long_pnl_no_fees - long_fee_open - long_fee_close\n",
    "print(f'loss_no_fees = {loss_no_fees}\\n'\n",
    "      f'usd_size = {usd_size}\\n'\n",
    "      f'realized_pnl = {realized_pnl}\\n'\n",
    "      f'long_pnl_no_fees = {long_pnl_no_fees}\\n'\n",
    "      f'long_fee_open = {long_fee_open}\\n'\n",
    "      f'long_fee_close = {long_fee_close}')\n"
   ]
  },
  {
   "cell_type": "code",
   "execution_count": null,
   "metadata": {},
   "outputs": [],
   "source": [
    "long_pnl = coin_size * (sl_price - entry)\n",
    "long_fee_open = coin_size * entry * fee\n",
    "long_fee_close = coin_size * sl_price * fee\n",
    "realized_pnl = long_pnl - long_fee_open - long_fee_close\n",
    "account_at_risk, usd_size, realized_pnl, long_pnl, long_fee_open, long_fee_close"
   ]
  },
  {
   "cell_type": "code",
   "execution_count": null,
   "metadata": {},
   "outputs": [],
   "source": [
    "test_tup1 = (1, 3, 5)\n",
    "test_tup2 = (4, 6)\n",
    "test_tup1 + test_tup2"
   ]
  },
  {
   "cell_type": "code",
   "execution_count": 28,
   "metadata": {},
   "outputs": [],
   "source": [
    "def long_pnl(\n",
    "    entry: float,\n",
    "    postion_size_usdt: float,\n",
    "    profit_loss: str,\n",
    "    exit_price: float,\n",
    "    limit_fee: float = 0.03,\n",
    "    market_fee: float = 0.06,\n",
    "):\n",
    "    limit_fee /= 100\n",
    "    market_fee /= 100\n",
    "    \n",
    "    coin_size = postion_size_usdt / entry\n",
    "    long_pnl = coin_size * (exit_price - entry)\n",
    "    long_fee_open = coin_size * entry * market_fee\n",
    "    fee = limit_fee if profit_loss == \"p\" else market_fee\n",
    "    long_fee_close = coin_size * exit_price * fee\n",
    "    realized_pnl = long_pnl - long_fee_open - long_fee_close\n",
    "    rounded_realized_pnl = round(realized_pnl, 2)\n",
    "    return rounded_realized_pnl"
   ]
  },
  {
   "cell_type": "code",
   "execution_count": 29,
   "metadata": {},
   "outputs": [
    {
     "data": {
      "text/plain": [
       "10.0"
      ]
     },
     "execution_count": 29,
     "metadata": {},
     "output_type": "execute_result"
    }
   ],
   "source": [
    "long_pnl(\n",
    "    entry=60280.0,\n",
    "    postion_size_usdt=3126.1783,\n",
    "    profit_loss='p',\n",
    "    exit_price=60527.1,\n",
    ")"
   ]
  },
  {
   "cell_type": "code",
   "execution_count": 1,
   "metadata": {},
   "outputs": [],
   "source": [
    "# USDT PnL Long\n",
    "def get_usd_price(equity, risk_pct, sl_pct):\n",
    "    account_at_risk = equity * risk_pct / 100\n",
    "    usd_size = -account_at_risk / (((1-(sl_pct/100)) - 1) - (fee/100) - ((1-(sl_pct/100)) * (fee/100)))\n",
    "    return usd_size\n"
   ]
  },
  {
   "cell_type": "code",
   "execution_count": 5,
   "metadata": {},
   "outputs": [
    {
     "data": {
      "text/plain": [
       "893.3357155619074"
      ]
     },
     "execution_count": 5,
     "metadata": {},
     "output_type": "execute_result"
    }
   ],
   "source": [
    "get_usd_price(1000, 1, 1)"
   ]
  },
  {
   "attachments": {},
   "cell_type": "markdown",
   "metadata": {},
   "source": [
    "Solving for Take Profit Price<br>\n",
    "S = USD size<br>\n",
    "E = entry or average entry<br>\n",
    "F = Fee<br>\n",
    "T = Take profit price<br>\n",
    "P = pnl<br>\n",
    "$$\n",
    "((\\frac{S}{E}) * ( T - E)) - ((\\frac{S}{E}) * E * F) - ((\\frac{S}{E}) * T * F) = PnL\\\\\n",
    "answer\\\\\n",
    "T = (PnL + S * F + S)*\\frac{E}{S - (S * F)}\n",
    "$$"
   ]
  },
  {
   "cell_type": "code",
   "execution_count": 6,
   "metadata": {},
   "outputs": [
    {
     "data": {
      "text/plain": [
       "1013.6021612967781"
      ]
     },
     "execution_count": 6,
     "metadata": {},
     "output_type": "execute_result"
    }
   ],
   "source": [
    "p = 1.\n",
    "s = 80.68420203324183\n",
    "f = .0006\n",
    "e = 1000\n",
    "(p + s * f + s) * (e / (s - (s * f)))\n",
    "# ((p + s * f + s) / ((s/e) - ((s*f) / e)))\n"
   ]
  },
  {
   "cell_type": "code",
   "execution_count": 3,
   "metadata": {},
   "outputs": [],
   "source": [
    "position_asset_size = 0.016\n",
    "average_entry = 37647.2\n",
    "limit_fee = .0006\n",
    "market_fee = .0009\n",
    "tp_price = 38522\n",
    "sl_price = 37521"
   ]
  },
  {
   "cell_type": "code",
   "execution_count": 4,
   "metadata": {},
   "outputs": [
    {
     "data": {
      "text/plain": [
       "13.265575680000047"
      ]
     },
     "execution_count": 4,
     "metadata": {},
     "output_type": "execute_result"
    }
   ],
   "source": [
    "(\n",
    "    (position_asset_size * (tp_price - average_entry))\n",
    "    - (position_asset_size * average_entry * limit_fee)\n",
    "    - (position_asset_size * tp_price * limit_fee)\n",
    ")"
   ]
  }
 ],
 "metadata": {
  "kernelspec": {
   "display_name": "qfVBT",
   "language": "python",
   "name": "python3"
  },
  "language_info": {
   "codemirror_mode": {
    "name": "ipython",
    "version": 3
   },
   "file_extension": ".py",
   "mimetype": "text/x-python",
   "name": "python",
   "nbconvert_exporter": "python",
   "pygments_lexer": "ipython3",
   "version": "3.12.4"
  },
  "orig_nbformat": 4,
  "vscode": {
   "interpreter": {
    "hash": "d03a5f5914d41db73604e557196e04fa21b062a314cb051b64faf513d9f7a3ca"
   }
  }
 },
 "nbformat": 4,
 "nbformat_minor": 2
}
